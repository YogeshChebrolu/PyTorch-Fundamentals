{
  "nbformat": 4,
  "nbformat_minor": 0,
  "metadata": {
    "colab": {
      "provenance": [],
      "gpuType": "T4"
    },
    "kernelspec": {
      "name": "python3",
      "display_name": "Python 3"
    },
    "language_info": {
      "name": "python"
    },
    "accelerator": "GPU"
  },
  "cells": [
    {
      "cell_type": "markdown",
      "source": [
        "# PyTorch Fundamentals"
      ],
      "metadata": {
        "id": "eslAZ4aDgEmc"
      }
    },
    {
      "cell_type": "markdown",
      "source": [
        "### Pytorch tensors\n"
      ],
      "metadata": {
        "id": "Oq8aZHlvhWv5"
      }
    },
    {
      "cell_type": "code",
      "execution_count": null,
      "metadata": {
        "colab": {
          "base_uri": "https://localhost:8080/"
        },
        "id": "oRrx2QvMfJbW",
        "outputId": "51bc452a-a605-45c4-e5de-a68ab02c6f88"
      },
      "outputs": [
        {
          "output_type": "stream",
          "name": "stdout",
          "text": [
            "2.5.1+cu121\n"
          ]
        }
      ],
      "source": [
        "import torch\n",
        "import pandas as pd\n",
        "import numpy as np\n",
        "import matplotlib.pyplot as plt\n",
        "print(torch.__version__)"
      ]
    },
    {
      "cell_type": "code",
      "source": [
        "scaler = torch.tensor(7)\n",
        "scaler\n",
        "scaler.ndim"
      ],
      "metadata": {
        "colab": {
          "base_uri": "https://localhost:8080/"
        },
        "id": "eenwvCXWjViD",
        "outputId": "83c7f1fa-42b0-47e8-a4ec-1449c2b9ffb9"
      },
      "execution_count": null,
      "outputs": [
        {
          "output_type": "execute_result",
          "data": {
            "text/plain": [
              "0"
            ]
          },
          "metadata": {},
          "execution_count": 2
        }
      ]
    },
    {
      "cell_type": "code",
      "source": [
        "scaler.item()"
      ],
      "metadata": {
        "colab": {
          "base_uri": "https://localhost:8080/"
        },
        "id": "U4B1-p6HjVen",
        "outputId": "e8a0b55a-52e5-4656-aaa1-22287989d77d"
      },
      "execution_count": null,
      "outputs": [
        {
          "output_type": "execute_result",
          "data": {
            "text/plain": [
              "7"
            ]
          },
          "metadata": {},
          "execution_count": 3
        }
      ]
    },
    {
      "cell_type": "code",
      "source": [
        "vector = torch.tensor([7,7])\n",
        "vector\n",
        "vector.ndim"
      ],
      "metadata": {
        "colab": {
          "base_uri": "https://localhost:8080/"
        },
        "id": "uZHxHzuKjk2L",
        "outputId": "1daabb5f-1674-49a0-d3c7-bbc72a6e74ab"
      },
      "execution_count": null,
      "outputs": [
        {
          "output_type": "execute_result",
          "data": {
            "text/plain": [
              "1"
            ]
          },
          "metadata": {},
          "execution_count": 4
        }
      ]
    },
    {
      "cell_type": "code",
      "source": [
        "matrix = torch.tensor([[2,3],[4,5]])\n",
        "matrix"
      ],
      "metadata": {
        "colab": {
          "base_uri": "https://localhost:8080/"
        },
        "id": "8c5VEzXWjkyl",
        "outputId": "d504ba56-62bf-4f5e-e284-e3d42b5f5680"
      },
      "execution_count": null,
      "outputs": [
        {
          "output_type": "execute_result",
          "data": {
            "text/plain": [
              "tensor([[2, 3],\n",
              "        [4, 5]])"
            ]
          },
          "metadata": {},
          "execution_count": 5
        }
      ]
    },
    {
      "cell_type": "code",
      "source": [
        "matrix[1]"
      ],
      "metadata": {
        "colab": {
          "base_uri": "https://localhost:8080/"
        },
        "id": "RdzhHTeBjkv_",
        "outputId": "ba7c2140-227e-4596-f487-a50be5255cc4"
      },
      "execution_count": null,
      "outputs": [
        {
          "output_type": "execute_result",
          "data": {
            "text/plain": [
              "tensor([4, 5])"
            ]
          },
          "metadata": {},
          "execution_count": 6
        }
      ]
    },
    {
      "cell_type": "code",
      "source": [
        "matrix.shape"
      ],
      "metadata": {
        "colab": {
          "base_uri": "https://localhost:8080/"
        },
        "id": "EBdjCw5KjVIr",
        "outputId": "ee95f307-de77-40e4-b598-c9fd790be25f"
      },
      "execution_count": null,
      "outputs": [
        {
          "output_type": "execute_result",
          "data": {
            "text/plain": [
              "torch.Size([2, 2])"
            ]
          },
          "metadata": {},
          "execution_count": 7
        }
      ]
    },
    {
      "cell_type": "code",
      "source": [
        "TENSOR = torch.tensor([[[1,2,3],\n",
        "                        [4,5,6],\n",
        "                        [7,8,9]]])\n",
        "TENSOR.ndim"
      ],
      "metadata": {
        "colab": {
          "base_uri": "https://localhost:8080/"
        },
        "id": "7M441BX6koKR",
        "outputId": "a5a13965-f22e-4f8c-f1c7-86efa12afd7e"
      },
      "execution_count": null,
      "outputs": [
        {
          "output_type": "execute_result",
          "data": {
            "text/plain": [
              "3"
            ]
          },
          "metadata": {},
          "execution_count": 8
        }
      ]
    },
    {
      "cell_type": "code",
      "source": [
        "TENSOR.shape"
      ],
      "metadata": {
        "colab": {
          "base_uri": "https://localhost:8080/"
        },
        "id": "YHWtTijPkoG5",
        "outputId": "89263f0e-9741-4ca0-dc0f-2b55c984230d"
      },
      "execution_count": null,
      "outputs": [
        {
          "output_type": "execute_result",
          "data": {
            "text/plain": [
              "torch.Size([1, 3, 3])"
            ]
          },
          "metadata": {},
          "execution_count": 9
        }
      ]
    },
    {
      "cell_type": "code",
      "source": [
        "TENSOR1 = torch.tensor([[[[12,2221,22,5],[422,424,42,4]]],\n",
        "                       [[[12,2221,22,5],[422,424,42,4]]]])\n",
        "TENSOR1.shape"
      ],
      "metadata": {
        "colab": {
          "base_uri": "https://localhost:8080/"
        },
        "id": "Ft5QsesjlNFc",
        "outputId": "dd763661-3d45-4d4c-e979-f492a917a66b"
      },
      "execution_count": null,
      "outputs": [
        {
          "output_type": "execute_result",
          "data": {
            "text/plain": [
              "torch.Size([2, 1, 2, 4])"
            ]
          },
          "metadata": {},
          "execution_count": 10
        }
      ]
    },
    {
      "cell_type": "code",
      "source": [
        "TENSOR1.ndim"
      ],
      "metadata": {
        "colab": {
          "base_uri": "https://localhost:8080/"
        },
        "id": "1wxMbpfGkoES",
        "outputId": "13247e04-7d59-4870-ee21-352b7d430582"
      },
      "execution_count": null,
      "outputs": [
        {
          "output_type": "execute_result",
          "data": {
            "text/plain": [
              "4"
            ]
          },
          "metadata": {},
          "execution_count": 11
        }
      ]
    },
    {
      "cell_type": "markdown",
      "source": [
        "### Random Tensors"
      ],
      "metadata": {
        "id": "QchxxqClueyU"
      }
    },
    {
      "cell_type": "code",
      "source": [
        "random_tensor = torch.rand(2, 3,4)\n",
        "random_tensor\n"
      ],
      "metadata": {
        "colab": {
          "base_uri": "https://localhost:8080/"
        },
        "id": "LQX2iQ9PkoCm",
        "outputId": "f53a9ca5-510b-481b-fafe-723e56c931d2"
      },
      "execution_count": null,
      "outputs": [
        {
          "output_type": "execute_result",
          "data": {
            "text/plain": [
              "tensor([[[0.3219, 0.2692, 0.5151, 0.6990],\n",
              "         [0.7068, 0.2464, 0.3667, 0.2714],\n",
              "         [0.6543, 0.8743, 0.4129, 0.6805]],\n",
              "\n",
              "        [[0.6088, 0.5780, 0.7981, 0.4323],\n",
              "         [0.1324, 0.1992, 0.0693, 0.7285],\n",
              "         [0.2535, 0.4820, 0.5190, 0.1285]]])"
            ]
          },
          "metadata": {},
          "execution_count": 12
        }
      ]
    },
    {
      "cell_type": "code",
      "source": [
        "random_tensor.ndim"
      ],
      "metadata": {
        "colab": {
          "base_uri": "https://localhost:8080/"
        },
        "id": "P0cxULSqkn_B",
        "outputId": "b4da4ddd-6442-4741-d4f5-6d1aab6c93a2"
      },
      "execution_count": null,
      "outputs": [
        {
          "output_type": "execute_result",
          "data": {
            "text/plain": [
              "3"
            ]
          },
          "metadata": {},
          "execution_count": 13
        }
      ]
    },
    {
      "cell_type": "code",
      "source": [
        "random_image_tensor = torch.rand(size=(224, 224, 3))"
      ],
      "metadata": {
        "id": "-uqlbW95kn8a"
      },
      "execution_count": null,
      "outputs": []
    },
    {
      "cell_type": "code",
      "source": [
        "random_image_tensor.ndim"
      ],
      "metadata": {
        "colab": {
          "base_uri": "https://localhost:8080/"
        },
        "id": "I6BAJObFkn5k",
        "outputId": "0e3f0576-b08f-4ab9-90cb-fbd5b5391f13"
      },
      "execution_count": null,
      "outputs": [
        {
          "output_type": "execute_result",
          "data": {
            "text/plain": [
              "3"
            ]
          },
          "metadata": {},
          "execution_count": 15
        }
      ]
    },
    {
      "cell_type": "markdown",
      "source": [
        "### Zeros and Ones"
      ],
      "metadata": {
        "id": "QQTzey1Zv9Xb"
      }
    },
    {
      "cell_type": "code",
      "source": [
        "zeros = torch.zeros(size=(3,4))\n",
        "zeros"
      ],
      "metadata": {
        "colab": {
          "base_uri": "https://localhost:8080/"
        },
        "id": "DJaEX9Ykv7Rz",
        "outputId": "5fec8da1-eee9-45a2-c377-e4afc49e5d04"
      },
      "execution_count": null,
      "outputs": [
        {
          "output_type": "execute_result",
          "data": {
            "text/plain": [
              "tensor([[0., 0., 0., 0.],\n",
              "        [0., 0., 0., 0.],\n",
              "        [0., 0., 0., 0.]])"
            ]
          },
          "metadata": {},
          "execution_count": 16
        }
      ]
    },
    {
      "cell_type": "code",
      "source": [
        "ones = torch.ones(size=(3, 4))\n",
        "ones"
      ],
      "metadata": {
        "colab": {
          "base_uri": "https://localhost:8080/"
        },
        "id": "Hu-RN-4Wv7Oj",
        "outputId": "f7ed4d75-92df-41f3-aca1-2727696b20c5"
      },
      "execution_count": null,
      "outputs": [
        {
          "output_type": "execute_result",
          "data": {
            "text/plain": [
              "tensor([[1., 1., 1., 1.],\n",
              "        [1., 1., 1., 1.],\n",
              "        [1., 1., 1., 1.]])"
            ]
          },
          "metadata": {},
          "execution_count": 17
        }
      ]
    },
    {
      "cell_type": "code",
      "source": [
        "ones.dtype"
      ],
      "metadata": {
        "colab": {
          "base_uri": "https://localhost:8080/"
        },
        "id": "PJyk-VUSv7Kk",
        "outputId": "02dceb8e-2b0b-4403-d78b-340c8a425536"
      },
      "execution_count": null,
      "outputs": [
        {
          "output_type": "execute_result",
          "data": {
            "text/plain": [
              "torch.float32"
            ]
          },
          "metadata": {},
          "execution_count": 18
        }
      ]
    },
    {
      "cell_type": "markdown",
      "source": [
        "### Creating a range of tensors and tensor-like"
      ],
      "metadata": {
        "id": "luknYMuLwm9T"
      }
    },
    {
      "cell_type": "code",
      "source": [
        "one_to_ten = torch.arange(start=1, end=11, step=1)\n",
        "one_to_ten"
      ],
      "metadata": {
        "colab": {
          "base_uri": "https://localhost:8080/"
        },
        "id": "Wz5GnLqUv7Hw",
        "outputId": "b57f440f-9b79-4b8b-bf7c-932e1aac5ed5"
      },
      "execution_count": null,
      "outputs": [
        {
          "output_type": "execute_result",
          "data": {
            "text/plain": [
              "tensor([ 1,  2,  3,  4,  5,  6,  7,  8,  9, 10])"
            ]
          },
          "metadata": {},
          "execution_count": 19
        }
      ]
    },
    {
      "cell_type": "code",
      "source": [
        "  ten_zeros = torch.zeros_like(one_to_ten)\n",
        "  ten_zeros"
      ],
      "metadata": {
        "colab": {
          "base_uri": "https://localhost:8080/"
        },
        "id": "_4mW2Vw9v7GS",
        "outputId": "1022b2ce-06fe-4e8f-b5e3-b3642b958849"
      },
      "execution_count": null,
      "outputs": [
        {
          "output_type": "execute_result",
          "data": {
            "text/plain": [
              "tensor([0, 0, 0, 0, 0, 0, 0, 0, 0, 0])"
            ]
          },
          "metadata": {},
          "execution_count": 20
        }
      ]
    },
    {
      "cell_type": "markdown",
      "source": [
        "### Tensor Data Types"
      ],
      "metadata": {
        "id": "OqkUAblHx4bv"
      }
    },
    {
      "cell_type": "code",
      "source": [
        "float_tensor = torch.tensor([3,4,5],\n",
        "                            dtype=None, #Defalt data type is float32\n",
        "                            device = None, #It's value can be cpu or cuda\n",
        "                            requires_grad = False) # To track gradients with operations on this tensor)"
      ],
      "metadata": {
        "id": "vrzVEkdVv7B4"
      },
      "execution_count": null,
      "outputs": []
    },
    {
      "cell_type": "code",
      "source": [
        "float_tensor.dtype"
      ],
      "metadata": {
        "colab": {
          "base_uri": "https://localhost:8080/"
        },
        "id": "aD-GVCZFkn3E",
        "outputId": "e2d89cfc-69e8-4015-bc36-3f0866651354"
      },
      "execution_count": null,
      "outputs": [
        {
          "output_type": "execute_result",
          "data": {
            "text/plain": [
              "torch.int64"
            ]
          },
          "metadata": {},
          "execution_count": 22
        }
      ]
    },
    {
      "cell_type": "code",
      "source": [
        "float_16_tensor = float_tensor.type(torch.float16)\n",
        "float_16_tensor.dtype"
      ],
      "metadata": {
        "colab": {
          "base_uri": "https://localhost:8080/"
        },
        "id": "q1Pfi06Gz3_h",
        "outputId": "41b3d4cf-9e12-426b-fa41-0d7e94e71d4c"
      },
      "execution_count": null,
      "outputs": [
        {
          "output_type": "execute_result",
          "data": {
            "text/plain": [
              "torch.float16"
            ]
          },
          "metadata": {},
          "execution_count": 23
        }
      ]
    },
    {
      "cell_type": "markdown",
      "source": [
        "### Tensor Attribiutes\n",
        "\n",
        "1. `tensor.dtype`\n",
        "2. `tensor.device`\n",
        "3. `tensor.shape`"
      ],
      "metadata": {
        "id": "2fhlNz0_4l-B"
      }
    },
    {
      "cell_type": "code",
      "source": [
        "some_tensor = torch.rand(size=(3,3))\n",
        "print(f\"data type of the tensor is {some_tensor.dtype}\")\n",
        "print(f\"Device the tensor is stored on is {some_tensor.device}\")\n",
        "print(f\"shape of the tensor is {some_tensor.shape}\")"
      ],
      "metadata": {
        "colab": {
          "base_uri": "https://localhost:8080/"
        },
        "id": "HhiMtwtRz38I",
        "outputId": "3a371355-f84c-4c1b-d26c-ddaacfc58c63"
      },
      "execution_count": null,
      "outputs": [
        {
          "output_type": "stream",
          "name": "stdout",
          "text": [
            "data type of the tensor is torch.float32\n",
            "Device the tensor is stored on is cpu\n",
            "shape of the tensor is torch.Size([3, 3])\n"
          ]
        }
      ]
    },
    {
      "cell_type": "markdown",
      "source": [
        "### Tensor Operations"
      ],
      "metadata": {
        "id": "6xwncO9U6UGl"
      }
    },
    {
      "cell_type": "code",
      "source": [
        "tensor = torch.tensor([1,2,4])\n",
        "tensor + 10"
      ],
      "metadata": {
        "colab": {
          "base_uri": "https://localhost:8080/"
        },
        "id": "3fXV4kWBz35e",
        "outputId": "b499af4c-b059-4a37-98e7-0606173845ef"
      },
      "execution_count": null,
      "outputs": [
        {
          "output_type": "execute_result",
          "data": {
            "text/plain": [
              "tensor([11, 12, 14])"
            ]
          },
          "metadata": {},
          "execution_count": 25
        }
      ]
    },
    {
      "cell_type": "code",
      "source": [
        "tensor"
      ],
      "metadata": {
        "colab": {
          "base_uri": "https://localhost:8080/"
        },
        "id": "XyL0hn1Bz31P",
        "outputId": "15bfcdc7-2431-4118-a6c1-88d28488c33a"
      },
      "execution_count": null,
      "outputs": [
        {
          "output_type": "execute_result",
          "data": {
            "text/plain": [
              "tensor([1, 2, 4])"
            ]
          },
          "metadata": {},
          "execution_count": 26
        }
      ]
    },
    {
      "cell_type": "code",
      "source": [
        "torch.mul(tensor, 10)"
      ],
      "metadata": {
        "colab": {
          "base_uri": "https://localhost:8080/"
        },
        "id": "DtOFisTp6lfN",
        "outputId": "470c02d4-280f-41a8-811e-123edb064115"
      },
      "execution_count": null,
      "outputs": [
        {
          "output_type": "execute_result",
          "data": {
            "text/plain": [
              "tensor([10, 20, 40])"
            ]
          },
          "metadata": {},
          "execution_count": 27
        }
      ]
    },
    {
      "cell_type": "code",
      "source": [
        "tensor.add( 10)"
      ],
      "metadata": {
        "colab": {
          "base_uri": "https://localhost:8080/"
        },
        "id": "DzCk4OeM6lbk",
        "outputId": "7114df40-29a9-49de-e26f-e6c349732c53"
      },
      "execution_count": null,
      "outputs": [
        {
          "output_type": "execute_result",
          "data": {
            "text/plain": [
              "tensor([11, 12, 14])"
            ]
          },
          "metadata": {},
          "execution_count": 28
        }
      ]
    },
    {
      "cell_type": "markdown",
      "source": [
        "\n",
        "\n",
        "### Matrix Multiplication\n",
        "1.   Element Wise Multiplication\n",
        "2.   Matrix mulitplication\n"
      ],
      "metadata": {
        "id": "MZ0o8cZx6_pP"
      }
    },
    {
      "cell_type": "code",
      "source": [
        "tensor * tensor #Matrix multiplication"
      ],
      "metadata": {
        "colab": {
          "base_uri": "https://localhost:8080/"
        },
        "id": "6aYwXYSA6lY7",
        "outputId": "3c9dcf36-7b0b-4140-adb5-6767dd64025c"
      },
      "execution_count": null,
      "outputs": [
        {
          "output_type": "execute_result",
          "data": {
            "text/plain": [
              "tensor([ 1,  4, 16])"
            ]
          },
          "metadata": {},
          "execution_count": 29
        }
      ]
    },
    {
      "cell_type": "code",
      "source": [
        "torch.matmul(tensor,tensor) # tensor @ tensor also perform same opearation"
      ],
      "metadata": {
        "colab": {
          "base_uri": "https://localhost:8080/"
        },
        "id": "BfyMjPAP6lTg",
        "outputId": "81c1b4b4-5eed-4990-c7ce-1cc96f7c81c4"
      },
      "execution_count": null,
      "outputs": [
        {
          "output_type": "execute_result",
          "data": {
            "text/plain": [
              "tensor(21)"
            ]
          },
          "metadata": {},
          "execution_count": 30
        }
      ]
    },
    {
      "cell_type": "code",
      "source": [
        "%%time\n",
        "value = 0\n",
        "for i in range(len(tensor)):\n",
        "  value += tensor[i]*tensor[i]\n",
        "print(value)\n"
      ],
      "metadata": {
        "colab": {
          "base_uri": "https://localhost:8080/"
        },
        "id": "Wp7b9Cc08dLC",
        "outputId": "77c18196-f7b4-40e6-dae6-bc5abed109f9"
      },
      "execution_count": null,
      "outputs": [
        {
          "output_type": "stream",
          "name": "stdout",
          "text": [
            "tensor(21)\n",
            "CPU times: user 1.7 ms, sys: 955 µs, total: 2.66 ms\n",
            "Wall time: 7.99 ms\n"
          ]
        }
      ]
    },
    {
      "cell_type": "code",
      "source": [
        "%%time\n",
        "torch.matmul(tensor, tensor)"
      ],
      "metadata": {
        "colab": {
          "base_uri": "https://localhost:8080/"
        },
        "id": "TEX-N9bz8dHl",
        "outputId": "87bce57b-10f8-457b-95c7-19a7f4b14e84"
      },
      "execution_count": null,
      "outputs": [
        {
          "output_type": "stream",
          "name": "stdout",
          "text": [
            "CPU times: user 137 µs, sys: 20 µs, total: 157 µs\n",
            "Wall time: 162 µs\n"
          ]
        },
        {
          "output_type": "execute_result",
          "data": {
            "text/plain": [
              "tensor(21)"
            ]
          },
          "metadata": {},
          "execution_count": 32
        }
      ]
    },
    {
      "cell_type": "markdown",
      "source": [
        "### Tensor Aggregation (min, max, mean, sum)\n"
      ],
      "metadata": {
        "id": "cK3qwokG6Rrl"
      }
    },
    {
      "cell_type": "code",
      "source": [
        "x = torch.arange(10,100,10)"
      ],
      "metadata": {
        "id": "sj49jGGZC8Z_"
      },
      "execution_count": null,
      "outputs": []
    },
    {
      "cell_type": "code",
      "source": [
        "x.min(), torch.min(x)"
      ],
      "metadata": {
        "colab": {
          "base_uri": "https://localhost:8080/"
        },
        "id": "trkcwuqlC8Wl",
        "outputId": "23fdee86-c08a-4e57-db34-b4926bb3d89c"
      },
      "execution_count": null,
      "outputs": [
        {
          "output_type": "execute_result",
          "data": {
            "text/plain": [
              "(tensor(10), tensor(10))"
            ]
          },
          "metadata": {},
          "execution_count": 34
        }
      ]
    },
    {
      "cell_type": "code",
      "source": [
        "x.max(), torch.max(x)"
      ],
      "metadata": {
        "colab": {
          "base_uri": "https://localhost:8080/"
        },
        "id": "WDBw2g3iDfbh",
        "outputId": "0a77cf6d-bb42-4db5-b671-af12a8151a5e"
      },
      "execution_count": null,
      "outputs": [
        {
          "output_type": "execute_result",
          "data": {
            "text/plain": [
              "(tensor(90), tensor(90))"
            ]
          },
          "metadata": {},
          "execution_count": 35
        }
      ]
    },
    {
      "cell_type": "code",
      "source": [
        "torch.mean(x.type(torch.float32)), x.type(torch.float32).mean()"
      ],
      "metadata": {
        "colab": {
          "base_uri": "https://localhost:8080/"
        },
        "id": "wEercGBGDoAL",
        "outputId": "b8cd7e08-53af-440b-97d9-c7154ea83ce2"
      },
      "execution_count": null,
      "outputs": [
        {
          "output_type": "execute_result",
          "data": {
            "text/plain": [
              "(tensor(50.), tensor(50.))"
            ]
          },
          "metadata": {},
          "execution_count": 36
        }
      ]
    },
    {
      "cell_type": "code",
      "source": [
        "x.sum() , torch.sum(x)"
      ],
      "metadata": {
        "colab": {
          "base_uri": "https://localhost:8080/"
        },
        "id": "awUtnBMrfh8F",
        "outputId": "464c6e37-6d99-4ef6-d48d-0c51075aa52b"
      },
      "execution_count": null,
      "outputs": [
        {
          "output_type": "execute_result",
          "data": {
            "text/plain": [
              "(tensor(450), tensor(450))"
            ]
          },
          "metadata": {},
          "execution_count": 37
        }
      ]
    },
    {
      "cell_type": "markdown",
      "source": [
        "### Positional min or max (argmin, argmax)"
      ],
      "metadata": {
        "id": "oiTt1AJgETCL"
      }
    },
    {
      "cell_type": "code",
      "source": [
        "x.argmin() #Position or Index of the minimum valeu\n",
        "x[0]"
      ],
      "metadata": {
        "colab": {
          "base_uri": "https://localhost:8080/"
        },
        "id": "fwMXCA6EEb6g",
        "outputId": "7699db34-63df-4d47-b765-c19af59a885d"
      },
      "execution_count": null,
      "outputs": [
        {
          "output_type": "execute_result",
          "data": {
            "text/plain": [
              "tensor(10)"
            ]
          },
          "metadata": {},
          "execution_count": 38
        }
      ]
    },
    {
      "cell_type": "markdown",
      "source": [
        "### Reshaping, Stacking, Squeezing and Unsqeezing"
      ],
      "metadata": {
        "id": "f57jpl0LfV1P"
      }
    },
    {
      "cell_type": "code",
      "source": [
        "x = torch.arange(1,100,10)\n",
        "x.shape"
      ],
      "metadata": {
        "colab": {
          "base_uri": "https://localhost:8080/"
        },
        "id": "jJ8dffMFh8jA",
        "outputId": "522d1130-ce5a-4dd0-d11e-7125dd559703"
      },
      "execution_count": null,
      "outputs": [
        {
          "output_type": "execute_result",
          "data": {
            "text/plain": [
              "torch.Size([10])"
            ]
          },
          "metadata": {},
          "execution_count": 40
        }
      ]
    },
    {
      "cell_type": "code",
      "source": [
        "# Add an Extra Dimension\n",
        "x_reshaped = x.reshape(1,5,2)\n",
        "x_reshaped"
      ],
      "metadata": {
        "colab": {
          "base_uri": "https://localhost:8080/"
        },
        "id": "X6i6PKuqiD64",
        "outputId": "f1a51f83-665d-48fb-c24d-681e1835f257"
      },
      "execution_count": null,
      "outputs": [
        {
          "output_type": "execute_result",
          "data": {
            "text/plain": [
              "tensor([[[ 2, 11],\n",
              "         [21, 31],\n",
              "         [41, 51],\n",
              "         [61, 71],\n",
              "         [81, 91]]])"
            ]
          },
          "metadata": {},
          "execution_count": 51
        }
      ]
    },
    {
      "cell_type": "code",
      "source": [
        "#Change view (U can still reshape the tensor but both the reshaped and original tesnor share the same memory space)\n",
        "z = x.view(2,5)\n",
        "z[0][0]=2\n",
        "x"
      ],
      "metadata": {
        "colab": {
          "base_uri": "https://localhost:8080/"
        },
        "id": "KM0vGIoYiN_X",
        "outputId": "1a51a7fa-ff5c-4386-f9d6-44c776065ff0"
      },
      "execution_count": null,
      "outputs": [
        {
          "output_type": "execute_result",
          "data": {
            "text/plain": [
              "tensor([ 2, 11, 21, 31, 41, 51, 61, 71, 81, 91])"
            ]
          },
          "metadata": {},
          "execution_count": 45
        }
      ]
    },
    {
      "cell_type": "code",
      "source": [
        "#Stack tensors on top of each other\n",
        "x_stacked = torch.stack([x, x, x, x], dim=1) #dim = 0 (hstack)\n",
        "                                             #dim = 1 (vstack)\n",
        "x_stacked"
      ],
      "metadata": {
        "colab": {
          "base_uri": "https://localhost:8080/"
        },
        "id": "xxxkd7X5i5YB",
        "outputId": "07791300-c78a-4a53-b8de-858655dc4f95"
      },
      "execution_count": null,
      "outputs": [
        {
          "output_type": "execute_result",
          "data": {
            "text/plain": [
              "tensor([[ 2,  2,  2,  2],\n",
              "        [11, 11, 11, 11],\n",
              "        [21, 21, 21, 21],\n",
              "        [31, 31, 31, 31],\n",
              "        [41, 41, 41, 41],\n",
              "        [51, 51, 51, 51],\n",
              "        [61, 61, 61, 61],\n",
              "        [71, 71, 71, 71],\n",
              "        [81, 81, 81, 81],\n",
              "        [91, 91, 91, 91]])"
            ]
          },
          "metadata": {},
          "execution_count": 48
        }
      ]
    },
    {
      "cell_type": "code",
      "source": [
        "x_reshaped.shape"
      ],
      "metadata": {
        "colab": {
          "base_uri": "https://localhost:8080/"
        },
        "id": "UpB2BthNjIaO",
        "outputId": "44d126fa-8fd7-42ae-a76c-fc8229d05731"
      },
      "execution_count": null,
      "outputs": [
        {
          "output_type": "execute_result",
          "data": {
            "text/plain": [
              "torch.Size([1, 5, 2])"
            ]
          },
          "metadata": {},
          "execution_count": 52
        }
      ]
    },
    {
      "cell_type": "code",
      "source": [
        "#torch.squeeze() - Remove all single dimensions from a target tensor\n",
        "x_squeezed = x_reshaped.squeeze()\n",
        "x_squeezed.shape"
      ],
      "metadata": {
        "colab": {
          "base_uri": "https://localhost:8080/"
        },
        "id": "ISloWh1qjnwY",
        "outputId": "9d012c50-e923-4065-e322-804aad43c98d"
      },
      "execution_count": null,
      "outputs": [
        {
          "output_type": "execute_result",
          "data": {
            "text/plain": [
              "torch.Size([5, 2])"
            ]
          },
          "metadata": {},
          "execution_count": 56
        }
      ]
    },
    {
      "cell_type": "code",
      "source": [
        "#torch.unsqueeze() - adds a single dimension to a target tensor at a specified dim\n",
        "x_unsqueezed = x_squeezed.unsqueeze(dim=2)\n",
        "x_unsqueezed.shape"
      ],
      "metadata": {
        "colab": {
          "base_uri": "https://localhost:8080/"
        },
        "id": "Kx64RkeZj-iK",
        "outputId": "21adf072-bdd5-451a-c35b-0eb66bf90400"
      },
      "execution_count": null,
      "outputs": [
        {
          "output_type": "execute_result",
          "data": {
            "text/plain": [
              "torch.Size([5, 2, 1])"
            ]
          },
          "metadata": {},
          "execution_count": 60
        }
      ]
    },
    {
      "cell_type": "code",
      "source": [
        "#torch.permute - Rearranges the dimensions (Both shares the same memory)\n",
        "x_original = torch.rand(size = (224, 224, 3))\n",
        "x_permute = x_original.permute(2, 0, 1)\n",
        "print(f\"Original Dimensions: {x_original.shape}\\n New Permuted dimensions: {x_permute.shape}\")"
      ],
      "metadata": {
        "colab": {
          "base_uri": "https://localhost:8080/"
        },
        "id": "wF6CuNhbkxUY",
        "outputId": "9841a42d-d3b4-4e3f-fd2a-c100966b8219"
      },
      "execution_count": null,
      "outputs": [
        {
          "output_type": "stream",
          "name": "stdout",
          "text": [
            "Original Dimensions: torch.Size([224, 224, 3])\n",
            " New Permuted dimensions: torch.Size([3, 224, 224])\n"
          ]
        }
      ]
    },
    {
      "cell_type": "code",
      "source": [
        "x_original[0,0,0] = 1.1"
      ],
      "metadata": {
        "id": "1c0NAkGVlkmF"
      },
      "execution_count": null,
      "outputs": []
    },
    {
      "cell_type": "code",
      "source": [
        "x_permute[0,0,0]"
      ],
      "metadata": {
        "colab": {
          "base_uri": "https://localhost:8080/"
        },
        "id": "4Hd9Wrunl6RD",
        "outputId": "4fc75b46-52c2-4aba-e7a6-c5654b49ea0b"
      },
      "execution_count": null,
      "outputs": [
        {
          "output_type": "execute_result",
          "data": {
            "text/plain": [
              "tensor(1.1000)"
            ]
          },
          "metadata": {},
          "execution_count": 67
        }
      ]
    },
    {
      "cell_type": "code",
      "source": [
        "x_original[0:10,0,:]"
      ],
      "metadata": {
        "colab": {
          "base_uri": "https://localhost:8080/"
        },
        "id": "J3NxrqyVmFdW",
        "outputId": "3eb6b0f1-d222-4bca-f766-b595c3be9f34"
      },
      "execution_count": null,
      "outputs": [
        {
          "output_type": "execute_result",
          "data": {
            "text/plain": [
              "tensor([[1.1000, 0.1821, 0.5107],\n",
              "        [0.0441, 0.6367, 0.7730],\n",
              "        [0.1325, 0.2329, 0.6643],\n",
              "        [0.1171, 0.8461, 0.3354],\n",
              "        [0.3760, 0.5272, 0.3941],\n",
              "        [0.9754, 0.2811, 0.6835],\n",
              "        [0.4535, 0.5731, 0.1853],\n",
              "        [0.0315, 0.9799, 0.6508],\n",
              "        [0.6863, 0.9930, 0.4877],\n",
              "        [0.9499, 0.3764, 0.5194]])"
            ]
          },
          "metadata": {},
          "execution_count": 70
        }
      ]
    },
    {
      "cell_type": "markdown",
      "source": [
        "### Selecting Data from tensors"
      ],
      "metadata": {
        "id": "QbnnPLubnC6h"
      }
    },
    {
      "cell_type": "code",
      "source": [
        "import torch\n",
        "x = torch.arange(1,10).reshape(1, 3, 3)\n",
        "x, x.shape"
      ],
      "metadata": {
        "colab": {
          "base_uri": "https://localhost:8080/"
        },
        "id": "fmizdigHmlHf",
        "outputId": "a603ce4e-2c24-4c10-e8cd-f89df917922e"
      },
      "execution_count": null,
      "outputs": [
        {
          "output_type": "execute_result",
          "data": {
            "text/plain": [
              "(tensor([[[1, 2, 3],\n",
              "          [4, 5, 6],\n",
              "          [7, 8, 9]]]),\n",
              " torch.Size([1, 3, 3]))"
            ]
          },
          "metadata": {},
          "execution_count": 73
        }
      ]
    },
    {
      "cell_type": "code",
      "source": [
        "x[0] #Index on first Bracket (Outer Dimension)"
      ],
      "metadata": {
        "colab": {
          "base_uri": "https://localhost:8080/"
        },
        "id": "QmOy_ptcm0hs",
        "outputId": "314f631c-775a-403a-9cda-ef10ab5408f8"
      },
      "execution_count": null,
      "outputs": [
        {
          "output_type": "execute_result",
          "data": {
            "text/plain": [
              "tensor([[1, 2, 3],\n",
              "        [4, 5, 6],\n",
              "        [7, 8, 9]])"
            ]
          },
          "metadata": {},
          "execution_count": 74
        }
      ]
    },
    {
      "cell_type": "code",
      "source": [
        "x[0][0] #Index on first Inner bracket"
      ],
      "metadata": {
        "colab": {
          "base_uri": "https://localhost:8080/"
        },
        "id": "1C5POCXPnetE",
        "outputId": "1523d9b0-7877-4233-c3ff-1fd652392320"
      },
      "execution_count": null,
      "outputs": [
        {
          "output_type": "execute_result",
          "data": {
            "text/plain": [
              "tensor([1, 2, 3])"
            ]
          },
          "metadata": {},
          "execution_count": 75
        }
      ]
    },
    {
      "cell_type": "code",
      "source": [
        "x[0][0][0], x[0][1][1]"
      ],
      "metadata": {
        "colab": {
          "base_uri": "https://localhost:8080/"
        },
        "id": "obMsEigrnnpw",
        "outputId": "41fa9ff2-2ad3-4294-a930-df34d1662578"
      },
      "execution_count": null,
      "outputs": [
        {
          "output_type": "execute_result",
          "data": {
            "text/plain": [
              "(tensor(1), tensor(5))"
            ]
          },
          "metadata": {},
          "execution_count": 78
        }
      ]
    },
    {
      "cell_type": "code",
      "source": [
        "#Get all values of 0th and 1st dimension and 1 index value of 2nd dimension\n",
        "x[:,:,1]"
      ],
      "metadata": {
        "colab": {
          "base_uri": "https://localhost:8080/"
        },
        "id": "5wqtBFfMn2zq",
        "outputId": "ceb20d4f-762a-453c-a0ba-29224f7b4968"
      },
      "execution_count": null,
      "outputs": [
        {
          "output_type": "execute_result",
          "data": {
            "text/plain": [
              "tensor([[2, 5, 8]])"
            ]
          },
          "metadata": {},
          "execution_count": 79
        }
      ]
    },
    {
      "cell_type": "code",
      "source": [
        "#Get all values of the o dimension but only 1 index value of 1st and 2nd dim\n",
        "x[:,1,1]"
      ],
      "metadata": {
        "colab": {
          "base_uri": "https://localhost:8080/"
        },
        "id": "BKTWb1UloXBc",
        "outputId": "586ea121-8fb4-4658-8b88-d4f09b035188"
      },
      "execution_count": null,
      "outputs": [
        {
          "output_type": "execute_result",
          "data": {
            "text/plain": [
              "tensor([5])"
            ]
          },
          "metadata": {},
          "execution_count": 80
        }
      ]
    },
    {
      "cell_type": "code",
      "source": [
        "x[:,2,2], x[0,2,:]"
      ],
      "metadata": {
        "colab": {
          "base_uri": "https://localhost:8080/"
        },
        "id": "pAgIWsXQonxi",
        "outputId": "1b5f21b3-48d0-44ec-b532-92a05ccc9945"
      },
      "execution_count": null,
      "outputs": [
        {
          "output_type": "execute_result",
          "data": {
            "text/plain": [
              "(tensor([9]), tensor([7, 8, 9]))"
            ]
          },
          "metadata": {},
          "execution_count": 84
        }
      ]
    },
    {
      "cell_type": "markdown",
      "source": [
        "### Pytorch tensors and numpy\n",
        "\n",
        "*  Numpy Array to Tensor `torch.from_numpy(ndarray)`\n",
        "*  Tensor to Numpy Array `torch.Tensor.numpy()`\n",
        "\n"
      ],
      "metadata": {
        "id": "j83HsjLXo-oq"
      }
    },
    {
      "cell_type": "code",
      "source": [
        "import torch\n",
        "import numpy as np\n",
        "\n",
        "array = np.arange(1.0, 8.0)\n",
        "tensor = torch.from_numpy(array) # the default data type will be float64\n",
        "array, tensor #Not shared memory"
      ],
      "metadata": {
        "colab": {
          "base_uri": "https://localhost:8080/"
        },
        "id": "Np3_dqdwouq-",
        "outputId": "48c44621-b9c1-4512-e99c-5091ab887505"
      },
      "execution_count": null,
      "outputs": [
        {
          "output_type": "execute_result",
          "data": {
            "text/plain": [
              "(array([1., 2., 3., 4., 5., 6., 7.]),\n",
              " tensor([1., 2., 3., 4., 5., 6., 7.], dtype=torch.float64))"
            ]
          },
          "metadata": {},
          "execution_count": 86
        }
      ]
    },
    {
      "cell_type": "code",
      "source": [
        "tensor = torch.ones(7)\n",
        "numpy_tensor = tensor.numpy() #data type will be float32\n",
        "tensor, numpy_tensor #No shared memory"
      ],
      "metadata": {
        "colab": {
          "base_uri": "https://localhost:8080/"
        },
        "id": "L2xdTx_ep1z0",
        "outputId": "0b9e2f6e-f401-4def-c7a6-d72ea49d927a"
      },
      "execution_count": null,
      "outputs": [
        {
          "output_type": "execute_result",
          "data": {
            "text/plain": [
              "(tensor([1., 1., 1., 1., 1., 1., 1.]),\n",
              " array([1., 1., 1., 1., 1., 1., 1.], dtype=float32))"
            ]
          },
          "metadata": {},
          "execution_count": 88
        }
      ]
    },
    {
      "cell_type": "markdown",
      "source": [
        "### Common Errors in Pytorch\n",
        " 1.  Different dtype error\n",
        " 2.  Different shape error\n",
        " 3.  Differnet device error\n",
        "\n"
      ],
      "metadata": {
        "id": "n7W2V62iw9Mt"
      }
    },
    {
      "cell_type": "markdown",
      "source": [
        "### Reproducbility\n",
        "To reduce the randomness in neural networks and pytorch comes the concept of a **random seed**"
      ],
      "metadata": {
        "id": "kgEWHURrq6np"
      }
    },
    {
      "cell_type": "code",
      "source": [
        "RANDOM_SEED = 43\n",
        "torch.manual_seed(RANDOM_SEED)\n",
        "random_tensor_C = torch.rand(3,4)\n",
        "\n",
        "torch.manual_seed(RANDOM_SEED)\n",
        "random_tensor_D = torch.rand(3, 4)\n",
        "\n",
        "print(random_tensor_C == random_tensor_D)"
      ],
      "metadata": {
        "colab": {
          "base_uri": "https://localhost:8080/"
        },
        "id": "IPB6O3fhqsl9",
        "outputId": "4b73fa37-7c31-40fe-82e1-09134fadee40"
      },
      "execution_count": null,
      "outputs": [
        {
          "output_type": "stream",
          "name": "stdout",
          "text": [
            "tensor([[True, True, True, True],\n",
            "        [True, True, True, True],\n",
            "        [True, True, True, True]])\n"
          ]
        }
      ]
    },
    {
      "cell_type": "markdown",
      "source": [
        "## PyTorch GPU operations"
      ],
      "metadata": {
        "id": "XKTlzmIIwhzo"
      }
    },
    {
      "cell_type": "markdown",
      "source": [
        "### 1.Running tensors and Pytorch objects on the GPUs (for faster computation)"
      ],
      "metadata": {
        "id": "qV9FpOggs--M"
      }
    },
    {
      "cell_type": "code",
      "source": [
        "!nvidia-smi"
      ],
      "metadata": {
        "colab": {
          "base_uri": "https://localhost:8080/"
        },
        "id": "6WJtWlRDsTxk",
        "outputId": "56e80c24-6156-4c72-9628-49f41d45b058"
      },
      "execution_count": null,
      "outputs": [
        {
          "output_type": "stream",
          "name": "stdout",
          "text": [
            "/bin/bash: line 1: nvidia-smi: command not found\n"
          ]
        }
      ]
    },
    {
      "cell_type": "markdown",
      "source": [
        "### 2.Check for GPU access with pytorch"
      ],
      "metadata": {
        "id": "jSwSjon_uN8w"
      }
    },
    {
      "cell_type": "code",
      "source": [
        "#Check for GPU access with PyTorch\n",
        "import torch\n",
        "torch.cuda.is_available()"
      ],
      "metadata": {
        "colab": {
          "base_uri": "https://localhost:8080/"
        },
        "id": "Lu-STngIt-XS",
        "outputId": "3ee3242b-7a9f-4e3d-866d-6e295615f425"
      },
      "execution_count": null,
      "outputs": [
        {
          "output_type": "execute_result",
          "data": {
            "text/plain": [
              "False"
            ]
          },
          "metadata": {},
          "execution_count": 98
        }
      ]
    },
    {
      "cell_type": "code",
      "source": [
        "#Setup device agnostic code\n",
        "device = \"cuda\" if torch.cuda.is_available() else \"cpu\"\n",
        "device"
      ],
      "metadata": {
        "colab": {
          "base_uri": "https://localhost:8080/",
          "height": 36
        },
        "id": "J-tWTj-4ukSa",
        "outputId": "64e11180-34a1-40b3-f6bb-2d40ee1639c5"
      },
      "execution_count": null,
      "outputs": [
        {
          "output_type": "execute_result",
          "data": {
            "text/plain": [
              "'cpu'"
            ],
            "application/vnd.google.colaboratory.intrinsic+json": {
              "type": "string"
            }
          },
          "metadata": {},
          "execution_count": 100
        }
      ]
    },
    {
      "cell_type": "code",
      "source": [
        "torch.cuda.device_count()"
      ],
      "metadata": {
        "colab": {
          "base_uri": "https://localhost:8080/"
        },
        "id": "CVXPphVlvr_1",
        "outputId": "b6f119fa-9b8a-4d4c-9131-89a4476c5375"
      },
      "execution_count": null,
      "outputs": [
        {
          "output_type": "execute_result",
          "data": {
            "text/plain": [
              "0"
            ]
          },
          "metadata": {},
          "execution_count": 102
        }
      ]
    },
    {
      "cell_type": "markdown",
      "source": [
        "### 3.Putting tensors (and models) on the GPU\n",
        "\n",
        "GPU results in faster computations"
      ],
      "metadata": {
        "id": "EYJg5XeCxZ3C"
      }
    },
    {
      "cell_type": "code",
      "source": [
        "#By default tensor will be on device \"cpu\"\n",
        "tensor = torch.tensor([2,3,4])\n",
        "tensor, tensor.device"
      ],
      "metadata": {
        "colab": {
          "base_uri": "https://localhost:8080/"
        },
        "id": "jbE17Nr8v9tZ",
        "outputId": "7dcb0890-085e-44c7-a42f-30d92c0e6980"
      },
      "execution_count": null,
      "outputs": [
        {
          "output_type": "execute_result",
          "data": {
            "text/plain": [
              "(tensor([2, 3, 4]), device(type='cpu'))"
            ]
          },
          "metadata": {},
          "execution_count": 103
        }
      ]
    },
    {
      "cell_type": "code",
      "source": [
        "tensor_on_gpu = tensor.to(device)\n",
        "tensor_on_gpu.device"
      ],
      "metadata": {
        "colab": {
          "base_uri": "https://localhost:8080/"
        },
        "id": "nwSiIGmsyBqQ",
        "outputId": "a62ba780-53a0-47ae-b8b2-0471a3da3b03"
      },
      "execution_count": null,
      "outputs": [
        {
          "output_type": "execute_result",
          "data": {
            "text/plain": [
              "device(type='cpu')"
            ]
          },
          "metadata": {},
          "execution_count": 105
        }
      ]
    },
    {
      "cell_type": "markdown",
      "source": [
        "### 4.Moving tensors back to CPU\n",
        "   If tesnor is on GPU, can't transform it to Numpy. Numpy only work on cpu"
      ],
      "metadata": {
        "id": "6KzIxnamyraN"
      }
    },
    {
      "cell_type": "code",
      "source": [
        "tensor_back_on_cpu = tensor.to(\"cpu\")\n",
        "numpy_array = tensor.numpy()\n",
        "numpy_array"
      ],
      "metadata": {
        "colab": {
          "base_uri": "https://localhost:8080/"
        },
        "id": "qSxBGpPryNew",
        "outputId": "757fd7cf-d342-45e8-a2ff-1140efb5d963"
      },
      "execution_count": null,
      "outputs": [
        {
          "output_type": "execute_result",
          "data": {
            "text/plain": [
              "array([2, 3, 4])"
            ]
          },
          "metadata": {},
          "execution_count": 107
        }
      ]
    },
    {
      "cell_type": "markdown",
      "source": [
        "## PyTorch Exercises"
      ],
      "metadata": {
        "id": "ejvcpURq7gED"
      }
    },
    {
      "cell_type": "code",
      "source": [
        "tensor = torch.tensor([2,3,4])\n",
        "li = tensor.tolist()\n",
        "li"
      ],
      "metadata": {
        "colab": {
          "base_uri": "https://localhost:8080/"
        },
        "id": "4x0bSmlgzJLL",
        "outputId": "d0f93fac-147b-425d-a8c5-69b0fef8fe16"
      },
      "execution_count": null,
      "outputs": [
        {
          "output_type": "execute_result",
          "data": {
            "text/plain": [
              "[2, 3, 4]"
            ]
          },
          "metadata": {},
          "execution_count": 110
        }
      ]
    },
    {
      "cell_type": "code",
      "source": [
        "tensor1 = torch.rand(size=(7,7))\n",
        "tensor2 = torch.rand(size=(1,7))\n",
        "result = torch.matmul(tensor1, tensor2.T)\n",
        "result"
      ],
      "metadata": {
        "colab": {
          "base_uri": "https://localhost:8080/"
        },
        "id": "4OeuwhY_72iB",
        "outputId": "cfdc0487-3e3e-4845-e94f-f0162a1e4623"
      },
      "execution_count": null,
      "outputs": [
        {
          "output_type": "execute_result",
          "data": {
            "text/plain": [
              "tensor([[3.1524],\n",
              "        [1.9502],\n",
              "        [2.6647],\n",
              "        [3.2763],\n",
              "        [2.5918],\n",
              "        [2.0225],\n",
              "        [2.3451]])"
            ]
          },
          "metadata": {},
          "execution_count": 112
        }
      ]
    },
    {
      "cell_type": "code",
      "source": [
        "RANDOM_SEED = 0\n",
        "torch.manual_seed(RANDOM_SEED)\n",
        "t1 = torch.rand(size=(7,7))\n",
        "\n",
        "torch.manual_seed(RANDOM_SEED)\n",
        "t2 = torch.rand(size=(1,7))\n",
        "t1 @ t2.T"
      ],
      "metadata": {
        "colab": {
          "base_uri": "https://localhost:8080/"
        },
        "id": "WJcL37upDvAw",
        "outputId": "779e5f26-5c26-46ee-a9d1-eec731d46cfb"
      },
      "execution_count": null,
      "outputs": [
        {
          "output_type": "execute_result",
          "data": {
            "text/plain": [
              "tensor([[1.5985],\n",
              "        [1.1173],\n",
              "        [1.2741],\n",
              "        [1.6838],\n",
              "        [0.8279],\n",
              "        [1.0347],\n",
              "        [1.2498]])"
            ]
          },
          "metadata": {},
          "execution_count": 115
        }
      ]
    },
    {
      "cell_type": "code",
      "source": [
        "# gpu equivalent of torch.random_seed is torch.cuda.random_seed\n",
        "torch.cuda.manual_seed(1234)\n"
      ],
      "metadata": {
        "id": "PthQ64c5EOK5"
      },
      "execution_count": null,
      "outputs": []
    },
    {
      "cell_type": "code",
      "source": [
        "import torch\n",
        "torch.cuda.is_available()"
      ],
      "metadata": {
        "colab": {
          "base_uri": "https://localhost:8080/"
        },
        "id": "T_o1-xzDFl8v",
        "outputId": "1106fa37-d08b-4b07-e1b1-1af947b6cb7a"
      },
      "execution_count": null,
      "outputs": [
        {
          "output_type": "execute_result",
          "data": {
            "text/plain": [
              "True"
            ]
          },
          "metadata": {},
          "execution_count": 2
        }
      ]
    },
    {
      "cell_type": "code",
      "source": [
        "device = \"cuda\" if torch.cuda.is_available else \"cpu\"\n",
        "torch.manual_seed(1234)\n",
        "t_A = torch.rand(size=(2,3)).to(device)\n",
        "t_B = torch.rand(size=(2,3)).to(device)\n",
        "t_A, t_B"
      ],
      "metadata": {
        "colab": {
          "base_uri": "https://localhost:8080/"
        },
        "id": "pT-D_yalF71v",
        "outputId": "0305145d-147b-4dcd-f4a5-f43b6a9394e2"
      },
      "execution_count": null,
      "outputs": [
        {
          "output_type": "execute_result",
          "data": {
            "text/plain": [
              "(tensor([[0.0290, 0.4019, 0.2598],\n",
              "         [0.3666, 0.0583, 0.7006]], device='cuda:0'),\n",
              " tensor([[0.0518, 0.4681, 0.6738],\n",
              "         [0.3315, 0.7837, 0.5631]], device='cuda:0'))"
            ]
          },
          "metadata": {},
          "execution_count": 8
        }
      ]
    },
    {
      "cell_type": "code",
      "source": [
        "res = t_A @ t_B.T\n",
        "res"
      ],
      "metadata": {
        "colab": {
          "base_uri": "https://localhost:8080/"
        },
        "id": "dgs3YzVmGrsS",
        "outputId": "b5a2b4f6-b633-4578-e8d3-31a57c1fec0f"
      },
      "execution_count": null,
      "outputs": [
        {
          "output_type": "execute_result",
          "data": {
            "text/plain": [
              "tensor([[0.3647, 0.4709],\n",
              "        [0.5184, 0.5617]], device='cuda:0')"
            ]
          },
          "metadata": {},
          "execution_count": 15
        }
      ]
    },
    {
      "cell_type": "code",
      "source": [
        "res.min(), torch.max(res)"
      ],
      "metadata": {
        "colab": {
          "base_uri": "https://localhost:8080/"
        },
        "id": "-Da-HO_RHEh7",
        "outputId": "284ac7fa-1663-4be5-e067-005d10e3db25"
      },
      "execution_count": null,
      "outputs": [
        {
          "output_type": "execute_result",
          "data": {
            "text/plain": [
              "(tensor(0.3647, device='cuda:0'), tensor(0.5617, device='cuda:0'))"
            ]
          },
          "metadata": {},
          "execution_count": 14
        }
      ]
    },
    {
      "cell_type": "code",
      "source": [
        "res.argmin(), torch.argmax(res)"
      ],
      "metadata": {
        "colab": {
          "base_uri": "https://localhost:8080/"
        },
        "id": "mM3nUijZHZKX",
        "outputId": "64139541-cf6c-4e43-ad06-aab996ccd968"
      },
      "execution_count": null,
      "outputs": [
        {
          "output_type": "execute_result",
          "data": {
            "text/plain": [
              "(tensor(0, device='cuda:0'), tensor(3, device='cuda:0'))"
            ]
          },
          "metadata": {},
          "execution_count": 17
        }
      ]
    },
    {
      "cell_type": "code",
      "source": [
        "torch.manual_seed(7)\n",
        "rand_tensor = torch.rand(size=(1,1,1,10)).type(torch.float16)\n",
        "rand_tensor"
      ],
      "metadata": {
        "colab": {
          "base_uri": "https://localhost:8080/"
        },
        "id": "hJqN1i4sHjlP",
        "outputId": "1f0869f6-923f-465a-b5ff-8fbaf4aff344"
      },
      "execution_count": null,
      "outputs": [
        {
          "output_type": "execute_result",
          "data": {
            "text/plain": [
              "tensor([[[[0.5415, 0.6421, 0.2976, 0.7075, 0.4189, 0.0655, 0.8838, 0.8081,\n",
              "           0.7529, 0.8989]]]], dtype=torch.float16)"
            ]
          },
          "metadata": {},
          "execution_count": 21
        }
      ]
    },
    {
      "cell_type": "code",
      "source": [
        "rand_squeezed = rand_tensor.squeeze()\n",
        "print(f\"1st Tensor: {rand_tensor} shape is: {rand_tensor.shape}\")\n",
        "print(f\"2nd Tensor: {rand_squeezed} shape is: {rand_squeezed.shape}\")"
      ],
      "metadata": {
        "colab": {
          "base_uri": "https://localhost:8080/"
        },
        "id": "Rao4OT0VH0GO",
        "outputId": "d0e32faa-5426-4a9b-d609-ff007e9eb8fc"
      },
      "execution_count": null,
      "outputs": [
        {
          "output_type": "stream",
          "name": "stdout",
          "text": [
            "1st Tensor: tensor([[[[0.5415, 0.6421, 0.2976, 0.7075, 0.4189, 0.0655, 0.8838, 0.8081,\n",
            "           0.7529, 0.8989]]]], dtype=torch.float16) shape is: torch.Size([1, 1, 1, 10])\n",
            "2nd Tensor: tensor([0.5415, 0.6421, 0.2976, 0.7075, 0.4189, 0.0655, 0.8838, 0.8081, 0.7529,\n",
            "        0.8989], dtype=torch.float16) shape is: torch.Size([10])\n"
          ]
        }
      ]
    },
    {
      "cell_type": "code",
      "source": [],
      "metadata": {
        "id": "TDaIoViBIsNw"
      },
      "execution_count": null,
      "outputs": []
    }
  ]
}